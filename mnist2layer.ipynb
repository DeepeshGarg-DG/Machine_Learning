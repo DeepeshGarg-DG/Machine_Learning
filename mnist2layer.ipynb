{
  "nbformat": 4,
  "nbformat_minor": 0,
  "metadata": {
    "colab": {
      "name": "mnist2layer.ipynb",
      "provenance": [],
      "collapsed_sections": []
    },
    "kernelspec": {
      "name": "python3",
      "display_name": "Python 3"
    },
    "language_info": {
      "name": "python"
    }
  },
  "cells": [
    {
      "cell_type": "code",
      "metadata": {
        "id": "371Q5bvBJWu4"
      },
      "source": [
        "import tensorflow as tf\n",
        "import numpy as np\n",
        "import matplotlib.pyplot as plt"
      ],
      "execution_count": 1,
      "outputs": []
    },
    {
      "cell_type": "code",
      "metadata": {
        "id": "ActZzTN8WsKf"
      },
      "source": [
        "from tensorflow.keras.datasets import mnist\n",
        "\n",
        "(x_train, y_train), (x_test, y_test) = mnist.load_data() # Loading data "
      ],
      "execution_count": 2,
      "outputs": []
    },
    {
      "cell_type": "code",
      "metadata": {
        "colab": {
          "base_uri": "https://localhost:8080/",
          "height": 761
        },
        "id": "mLY1qdZbWqj3",
        "outputId": "8a39631a-5350-46ac-e406-09f05a3258e6"
      },
      "source": [
        "n_images = 3\n",
        "for i in range(n_images):\n",
        "    plt.imshow(np.reshape(x_train[i], [28, 28]), cmap='gray')\n",
        "    plt.show() # Displaing few instances of the dataset"
      ],
      "execution_count": 3,
      "outputs": [
        {
          "output_type": "display_data",
          "data": {
            "image/png": "[encoded data removed]",
            "text/plain": [
              "<Figure size 432x288 with 1 Axes>"
            ]
          },
          "metadata": {
            "needs_background": "light"
          }
        },
        {
          "output_type": "display_data",
          "data": {
            "image/png": "[encoded data removed]",
            "text/plain": [
              "<Figure size 432x288 with 1 Axes>"
            ]
          },
          "metadata": {
            "needs_background": "light"
          }
        },
        {
          "output_type": "display_data",
          "data": {
            "image/png": "[encoded data removed]",
            "text/plain": [
              "<Figure size 432x288 with 1 Axes>"
            ]
          },
          "metadata": {
            "needs_background": "light"
          }
        }
      ]
    },
    {
      "cell_type": "code",
      "metadata": {
        "id": "b09IPt2oLzlg"
      },
      "source": [
        "n_c = 10 # Number of classes: 0-9 digits\n",
        "n_f = 784 # Number of features: 28*28\n",
        "\n",
        "learning_rate = 0.3 # Setting learning rate\n",
        "\n",
        "n_h = 800 # Number of neurons in first hidden layer"
      ],
      "execution_count": 4,
      "outputs": []
    },
    {
      "cell_type": "code",
      "metadata": {
        "id": "eYmj5bNPL1tc"
      },
      "source": [
        "x_train, x_test = np.array(x_train, np.float32), np.array(x_test, np.float32) # Converting to float32\n",
        "\n",
        "x_train, x_test = x_train.reshape([-1, n_f]), x_test.reshape([-1, n_f]) # reshaping data into 1-D vector of 784 features\n",
        "\n",
        "x_train, x_test = x_train / 255., x_test / 255. # Normalising values to 0-1"
      ],
      "execution_count": 5,
      "outputs": []
    },
    {
      "cell_type": "code",
      "metadata": {
        "colab": {
          "base_uri": "https://localhost:8080/"
        },
        "id": "yCSBxLhv2X-d",
        "outputId": "92ba7a13-db3a-4e16-cd4b-a120890d9113"
      },
      "source": [
        "x_train.shape"
      ],
      "execution_count": 6,
      "outputs": [
        {
          "output_type": "execute_result",
          "data": {
            "text/plain": [
              "(60000, 784)"
            ]
          },
          "metadata": {},
          "execution_count": 6
        }
      ]
    },
    {
      "cell_type": "code",
      "metadata": {
        "id": "QwXc9DqB2LfM"
      },
      "source": [
        "x_train = x_train.T\n",
        "y_train = y_train.T"
      ],
      "execution_count": 7,
      "outputs": []
    },
    {
      "cell_type": "code",
      "metadata": {
        "colab": {
          "base_uri": "https://localhost:8080/"
        },
        "id": "NNGumimC5mLf",
        "outputId": "e314b27c-8a0e-43b0-e0b7-30849c30797c"
      },
      "source": [
        "print(x_train.shape)\n",
        "print(y_train.shape)"
      ],
      "execution_count": 8,
      "outputs": [
        {
          "output_type": "stream",
          "name": "stdout",
          "text": [
            "(784, 60000)\n",
            "(60000,)\n"
          ]
        }
      ]
    },
    {
      "cell_type": "code",
      "metadata": {
        "id": "NmKmIgK956AY"
      },
      "source": [
        "train_label=np.zeros((10,60000))\n",
        "\n",
        "for col in range (60000):\n",
        "    val = y_train[col]\n",
        "    for row in range (10):\n",
        "        if (val == row):\n",
        "            train_label[val, col]=1"
      ],
      "execution_count": 9,
      "outputs": []
    },
    {
      "cell_type": "code",
      "metadata": {
        "id": "jrwtT0XQM_om"
      },
      "source": [
        "y_train = y_train.reshape(60000,1)"
      ],
      "execution_count": 10,
      "outputs": []
    },
    {
      "cell_type": "code",
      "metadata": {
        "id": "K6OEDqE8L5qo"
      },
      "source": [
        "def initialize_parameters(n_x, n_h, n_y):\n",
        "  \n",
        "    w1 = np.random.randn(n_h, n_x)*0.01\n",
        "    b1 = np.zeros((n_h, 1))\n",
        "    \n",
        "    w2 = np.random.randn(n_y, n_h)*0.01\n",
        "    b2 = np.zeros((n_y, 1))\n",
        "    \n",
        "    parameters = {\n",
        "        \"w1\" : w1,\n",
        "        \"b1\" : b1,\n",
        "        \"w2\" : w2,\n",
        "        \"b2\" : b2\n",
        "    }\n",
        "    \n",
        "    return parameters\n"
      ],
      "execution_count": 11,
      "outputs": []
    },
    {
      "cell_type": "code",
      "metadata": {
        "id": "DA2LoYK-Cu1y"
      },
      "source": [
        "def relu(x):\n",
        "    return np.maximum(x, 0)\n",
        "\n",
        "def softmax(x):\n",
        "    expX = np.exp(x)\n",
        "    return expX/np.sum(expX, axis = 0)"
      ],
      "execution_count": 12,
      "outputs": []
    },
    {
      "cell_type": "code",
      "metadata": {
        "id": "0343s8aGCu98"
      },
      "source": [
        "def derivative_relu(x):\n",
        "    return np.array(x > 0, dtype = np.float32)"
      ],
      "execution_count": 13,
      "outputs": []
    },
    {
      "cell_type": "code",
      "metadata": {
        "id": "IcKgSuiQL7sZ"
      },
      "source": [
        "def forward_prop(x, parameters):\n",
        "\n",
        "    w1 = parameters['w1']\n",
        "    b1 = parameters['b1']\n",
        "    w2 = parameters['w2']\n",
        "    b2 = parameters['b2']\n",
        "    \n",
        "    z1 = np.dot(w1, x) + b1\n",
        "    a1 = relu(z1)\n",
        "    \n",
        "    z2 = np.dot(w2, a1) + b2\n",
        "    a2 = softmax(z2)\n",
        "\n",
        "    forward_cache = {\n",
        "        \"z1\" : z1,\n",
        "        \"a1\" : a1,\n",
        "        \"z2\" : z2,\n",
        "        \"a2\" : a2\n",
        "    }\n",
        "\n",
        "    return forward_cache"
      ],
      "execution_count": 14,
      "outputs": []
    },
    {
      "cell_type": "code",
      "metadata": {
        "id": "HA9gwWbADjb5"
      },
      "source": [
        "def cost_function(a2, y):\n",
        "    m = y.shape[0]\n",
        "    \n",
        "    cost = -(1/m)*np.sum(y*np.log(a2))\n",
        "   \n",
        "    return cost"
      ],
      "execution_count": 15,
      "outputs": []
    },
    {
      "cell_type": "code",
      "metadata": {
        "id": "-pmSPek2D7wB"
      },
      "source": [
        "def backward_prop(x, y, parameters, forward_cache):\n",
        "    \n",
        "    w1 = parameters['w1']\n",
        "    b1 = parameters['b1']\n",
        "    w2 = parameters['w2']\n",
        "    b2 = parameters['b2']\n",
        "    \n",
        "    a1 = forward_cache['a1']\n",
        "    a2 = forward_cache['a2']\n",
        "    \n",
        "    m = x.shape[1]\n",
        "    \n",
        "    dz2 = (a2 - y)\n",
        "    dw2 = (1/m)*np.dot(dz2, a1.T)\n",
        "    db2 = (1/m)*np.sum(dz2, axis = 1, keepdims = True)\n",
        "    \n",
        "    dz1 = (1/m)*np.dot(w2.T, dz2)*derivative_relu(a1)\n",
        "    dw1 = (1/m)*np.dot(dz1, x.T)\n",
        "    db1 = (1/m)*np.sum(dz1, axis = 1, keepdims = True)\n",
        "    \n",
        "    gradients = {\n",
        "        \"dw1\" : dw1,\n",
        "        \"db1\" : db1,\n",
        "        \"dw2\" : dw2,\n",
        "        \"db2\" : db2\n",
        "    }\n",
        "    \n",
        "    return gradients"
      ],
      "execution_count": 16,
      "outputs": []
    },
    {
      "cell_type": "code",
      "metadata": {
        "id": "yKrEqd8bD7zk"
      },
      "source": [
        "def update_parameters(parameters, gradients, learning_rate):\n",
        "    \n",
        "    w1 = parameters['w1']\n",
        "    b1 = parameters['b1']\n",
        "    w2 = parameters['w2']\n",
        "    b2 = parameters['b2']\n",
        "    \n",
        "    dw1 = gradients['dw1']\n",
        "    db1 = gradients['db1']\n",
        "    dw2 = gradients['dw2']\n",
        "    db2 = gradients['db2']\n",
        "    \n",
        "    w1 = w1 - learning_rate*dw1\n",
        "    b1 = b1 - learning_rate*db1\n",
        "    w2 = w2 - learning_rate*dw2\n",
        "    b2 = b2 - learning_rate*db2\n",
        "    \n",
        "    parameters = {\n",
        "        \"w1\" : w1,\n",
        "        \"b1\" : b1,\n",
        "        \"w2\" : w2,\n",
        "        \"b2\" : b2\n",
        "    }\n",
        "    \n",
        "    return parameters"
      ],
      "execution_count": 17,
      "outputs": []
    },
    {
      "cell_type": "code",
      "metadata": {
        "id": "BpnpW9LND73h"
      },
      "source": [
        "def model(x, y, n_h, learning_rate, iterations):\n",
        "    \n",
        "    n_x = x.shape[0]\n",
        "    n_y = y.shape[0]\n",
        "    \n",
        "    cost_list = []\n",
        "    \n",
        "    parameters = initialize_parameters(n_x, n_h, n_y)\n",
        "    \n",
        "    for i in range(iterations):\n",
        "        \n",
        "        forward_cache = forward_prop(x, parameters)\n",
        "        \n",
        "        cost = cost_function(forward_cache['a2'], y)\n",
        "        \n",
        "        gradients = backward_prop(x, y, parameters, forward_cache)\n",
        "        \n",
        "        parameters = update_parameters(parameters, gradients, learning_rate)\n",
        "        \n",
        "        cost_list.append(cost)\n",
        "        \n",
        "        if(i%(iterations/10) == 0):\n",
        "            print(\"Cost after\", i, \"iterations is :\", cost)\n",
        "        \n",
        "    return parameters, cost_list"
      ],
      "execution_count": 18,
      "outputs": []
    },
    {
      "cell_type": "code",
      "metadata": {
        "colab": {
          "base_uri": "https://localhost:8080/"
        },
        "id": "euPUMSWhD778",
        "outputId": "ec040436-7305-49fc-fc0c-2e9b6b070ee2"
      },
      "source": [
        "iterations = 200\n",
        "parameters, Cost_list = model(x_train, train_label, n_h=n_h, learning_rate = learning_rate, iterations = iterations)"
      ],
      "execution_count": 19,
      "outputs": [
        {
          "output_type": "stream",
          "name": "stdout",
          "text": [
            "Cost after 0 iterations is : 13821.785180404375\n",
            "Cost after 20 iterations is : 12780.391175738956\n",
            "Cost after 40 iterations is : 11864.723329816807\n",
            "Cost after 60 iterations is : 11055.504313227842\n",
            "Cost after 80 iterations is : 10343.12886956576\n",
            "Cost after 100 iterations is : 9717.074485027433\n",
            "Cost after 120 iterations is : 9166.721528068645\n",
            "Cost after 140 iterations is : 8682.05359676124\n",
            "Cost after 160 iterations is : 8254.017889675246\n",
            "Cost after 180 iterations is : 7874.653744182333\n"
          ]
        }
      ]
    },
    {
      "cell_type": "code",
      "metadata": {
        "colab": {
          "base_uri": "https://localhost:8080/"
        },
        "id": "pQ9ndO36B7s9",
        "outputId": "8ca748e7-2a2f-42f8-f62b-c676ae1d4b10"
      },
      "source": [
        "y_test.shape"
      ],
      "execution_count": 20,
      "outputs": [
        {
          "output_type": "execute_result",
          "data": {
            "text/plain": [
              "(10000,)"
            ]
          },
          "metadata": {},
          "execution_count": 20
        }
      ]
    },
    {
      "cell_type": "code",
      "metadata": {
        "id": "bdYtO4cCCI6g"
      },
      "source": [
        "x_test = x_test.T"
      ],
      "execution_count": 21,
      "outputs": []
    },
    {
      "cell_type": "code",
      "metadata": {
        "id": "c3nhNktkB9_Q"
      },
      "source": [
        "test_label=np.zeros((10,10000))\n",
        "\n",
        "for col in range (10000):\n",
        "    val = y_test[col]\n",
        "    for row in range (10):\n",
        "        if (val == row):\n",
        "            test_label[val, col]=1"
      ],
      "execution_count": 22,
      "outputs": []
    },
    {
      "cell_type": "code",
      "metadata": {
        "id": "_S1sDZ-pD7_h"
      },
      "source": [
        "def accuracy(inp, labels, parameters):\n",
        "    forward_cache = forward_prop(inp, parameters)\n",
        "    \n",
        "    a_out = forward_cache['a2']   \n",
        "    a_out = np.argmax(a_out, 0) \n",
        "    labels = np.argmax(labels, 0)\n",
        "    \n",
        "    acc = np.mean(a_out == labels)*100\n",
        "    \n",
        "    return acc"
      ],
      "execution_count": 23,
      "outputs": []
    },
    {
      "cell_type": "code",
      "metadata": {
        "colab": {
          "base_uri": "https://localhost:8080/"
        },
        "id": "QprAHsN2BNdl",
        "outputId": "02eb4f4b-2a9b-486f-a567-4d95e195bf3c"
      },
      "source": [
        "print(\"Accuracy of Train Dataset\", accuracy(x_train, train_label, parameters), \"%\")"
      ],
      "execution_count": 24,
      "outputs": [
        {
          "output_type": "stream",
          "name": "stdout",
          "text": [
            "Accuracy of Train Dataset 81.36833333333333 %\n"
          ]
        }
      ]
    },
    {
      "cell_type": "code",
      "metadata": {
        "colab": {
          "base_uri": "https://localhost:8080/"
        },
        "id": "HMSbrAicBR5D",
        "outputId": "87819a62-d104-49a1-8312-361bab1be8ec"
      },
      "source": [
        "print(\"Accuracy of Test Dataset\", accuracy(x_test, test_label, parameters), \"%\")"
      ],
      "execution_count": 25,
      "outputs": [
        {
          "output_type": "stream",
          "name": "stdout",
          "text": [
            "Accuracy of Test Dataset 82.37 %\n"
          ]
        }
      ]
    },
    {
      "cell_type": "code",
      "metadata": {
        "id": "tR1KXoN-CGQj"
      },
      "source": [
        ""
      ],
      "execution_count": 25,
      "outputs": []
    }
  ]
}