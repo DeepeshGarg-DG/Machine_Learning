{
  "nbformat": 4,
  "nbformat_minor": 0,
  "metadata": {
    "colab": {
      "name": "tenserflowMNIST.ipynb",
      "provenance": []
    },
    "kernelspec": {
      "name": "python3",
      "display_name": "Python 3"
    },
    "language_info": {
      "name": "python"
    }
  },
  "cells": [
    {
      "cell_type": "code",
      "metadata": {
        "id": "371Q5bvBJWu4"
      },
      "source": [
        "import tensorflow as tf\n",
        "import numpy as np\n",
        "import matplotlib.pyplot as plt"
      ],
      "execution_count": 1,
      "outputs": []
    },
    {
      "cell_type": "code",
      "metadata": {
        "id": "ActZzTN8WsKf",
        "colab": {
          "base_uri": "https://localhost:8080/"
        },
        "outputId": "50273f3e-256c-4f11-dd12-f8361e29a999"
      },
      "source": [
        "from tensorflow.keras.datasets import mnist\n",
        "\n",
        "(x_train, y_train), (x_test, y_test) = mnist.load_data() # Loading data "
      ],
      "execution_count": 2,
      "outputs": [
        {
          "output_type": "stream",
          "name": "stdout",
          "text": [
            "Downloading data from https://storage.googleapis.com/tensorflow/tf-keras-datasets/mnist.npz\n",
            "11493376/11490434 [==============================] - 0s 0us/step\n",
            "11501568/11490434 [==============================] - 0s 0us/step\n"
          ]
        }
      ]
    },
    {
      "cell_type": "code",
      "metadata": {
        "colab": {
          "base_uri": "https://localhost:8080/",
          "height": 761
        },
        "id": "mLY1qdZbWqj3",
        "outputId": "fa1019d1-c395-431d-cc09-d3f573d7928c"
      },
      "source": [
        "n_images = 3\n",
        "for i in range(n_images):\n",
        "    plt.imshow(np.reshape(x_train[i], [28, 28]), cmap='gray')\n",
        "    plt.show() # Displaing few instances of the dataset"
      ],
      "execution_count": 3,
      "outputs": [
        {
          "output_type": "display_data",
          "data": {
            "image/png": "[encoded data removed]",
            "text/plain": [
              "<Figure size 432x288 with 1 Axes>"
            ]
          },
          "metadata": {
            "needs_background": "light"
          }
        },
        {
          "output_type": "display_data",
          "data": {
            "image/png": "[encoded data removed]",
            "text/plain": [
              "<Figure size 432x288 with 1 Axes>"
            ]
          },
          "metadata": {
            "needs_background": "light"
          }
        },
        {
          "output_type": "display_data",
          "data": {
            "image/png": "[encoded data removed]",
            "text/plain": [
              "<Figure size 432x288 with 1 Axes>"
            ]
          },
          "metadata": {
            "needs_background": "light"
          }
        }
      ]
    },
    {
      "cell_type": "code",
      "metadata": {
        "id": "b09IPt2oLzlg"
      },
      "source": [
        "n_c = 10 # Number of classes: 0-9 digits\n",
        "n_f = 784 # Number of features: 28*28\n",
        "\n",
        "learning_rate = 0.001 # Setting learning rate\n",
        "batch_size = 128 # Declaring batch size\n",
        "\n",
        "n_h1 = 300 # Number of neurons in first hidden layer\n",
        "n_h2 = 100 # Number of neurons in second hidden layer"
      ],
      "execution_count": 4,
      "outputs": []
    },
    {
      "cell_type": "code",
      "metadata": {
        "id": "eYmj5bNPL1tc"
      },
      "source": [
        "x_train, x_test = np.array(x_train, np.float32), np.array(x_test, np.float32) # Converting to float32\n",
        "\n",
        "x_train, x_test = x_train.reshape([-1, n_f]), x_test.reshape([-1, n_f]) # reshaping data into 1-D vector of 784 features\n",
        "\n",
        "x_train, x_test = x_train / 255., x_test / 255. # Normalising values to 0-1"
      ],
      "execution_count": 5,
      "outputs": []
    },
    {
      "cell_type": "code",
      "metadata": {
        "id": "DTy5AoMEL3mb"
      },
      "source": [
        "train_data = tf.data.Dataset.from_tensor_slices((x_train, y_train))\n",
        "train_data = train_data.repeat().shuffle(5000).batch(batch_size).prefetch(1)"
      ],
      "execution_count": 6,
      "outputs": []
    },
    {
      "cell_type": "code",
      "metadata": {
        "id": "K6OEDqE8L5qo"
      },
      "source": [
        "# Initialising weights with random values\n",
        "random_normal = tf.initializers.RandomNormal()\n",
        "weights = {\n",
        "'W1': tf.Variable(random_normal([n_f, n_h1])),\n",
        "'W2': tf.Variable(random_normal([n_h1, n_h2])),\n",
        "'W3': tf.Variable(random_normal([n_h2, n_c]))\n",
        "}\n",
        "\n",
        "# Initialising biases as zero\n",
        "biases = {\n",
        "'b1': tf.Variable(tf.zeros([n_h1])),\n",
        "'b2': tf.Variable(tf.zeros([n_h2])),\n",
        "'b3': tf.Variable(tf.zeros([n_c]))\n",
        "}\n"
      ],
      "execution_count": 7,
      "outputs": []
    },
    {
      "cell_type": "code",
      "metadata": {
        "id": "IcKgSuiQL7sZ"
      },
      "source": [
        "def model(X):\n",
        "\n",
        "    W1 = weights['W1']\n",
        "    b1 = biases['b1']\n",
        "    W2 = weights['W2']\n",
        "    b2 = biases['b2']\n",
        "    W3 = weights['W3']\n",
        "    b3 = biases['b3']\n",
        "\n",
        "    # Forward propogation \n",
        "    Z1 = tf.add(tf.matmul(X, W1),b1) \n",
        "    A1 = tf.nn.relu(Z1)                    \n",
        "    Z2 = tf.add(tf.matmul(A1, W2),b2)                    \n",
        "    A2 = tf.nn.relu(Z2)                                              \n",
        "    Z3 = tf.matmul(A2, W3) + b3\n",
        "\n",
        "    return tf.nn.softmax(Z3)"
      ],
      "execution_count": 8,
      "outputs": []
    },
    {
      "cell_type": "code",
      "metadata": {
        "id": "MemkaZOpL9s8"
      },
      "source": [
        "# Computing cross-entropy loss\n",
        "def cross_entropy(y_pred, y_true):\n",
        "    y_true = tf.one_hot(y_true, depth=n_c)\n",
        "    y_pred = tf.clip_by_value(y_pred, 1e-15, 1.0)\n",
        "    return tf.reduce_mean(-tf.reduce_sum(y_true * tf.math.log(y_pred)))\n",
        "\n",
        "# Computing Accuracy \n",
        "def accuracy(y_pred, y_true):\n",
        "    correct_prediction = tf.equal(tf.argmax(y_pred, 1), tf.cast(y_true, tf.int64))\n",
        "    return tf.reduce_mean(tf.cast(correct_prediction, tf.float32), axis=-1)\n",
        "\n",
        "# Stochastic Gradient Descent optimiser\n",
        "optimizer = tf.optimizers.SGD(learning_rate)"
      ],
      "execution_count": 9,
      "outputs": []
    },
    {
      "cell_type": "code",
      "metadata": {
        "id": "WnbDhrwAL_zy"
      },
      "source": [
        "def Optimization(x, y):\n",
        "    with tf.GradientTape() as tape:\n",
        "        pred = model(x)\n",
        "        loss = cross_entropy(pred, y)\n",
        "\n",
        "    variables = list(weights.values()) + list(biases.values())\n",
        "    gradients = tape.gradient(loss, variables) # Computing gradients\n",
        "    optimizer.apply_gradients(zip(gradients, variables))"
      ],
      "execution_count": 10,
      "outputs": []
    },
    {
      "cell_type": "code",
      "metadata": {
        "colab": {
          "base_uri": "https://localhost:8080/"
        },
        "id": "jFKNxIvvMByc",
        "outputId": "222023c6-5ace-48e7-d849-863f855f24fe"
      },
      "source": [
        "for step, (batch_x, batch_y) in enumerate(train_data.take(1600), 1):\n",
        "\n",
        "    Optimization(batch_x, batch_y)\n",
        "    \n",
        "    if step % 200 == 0:\n",
        "        pred = model(batch_x)\n",
        "        loss = cross_entropy(pred, batch_y)\n",
        "        acc = accuracy(pred, batch_y)\n",
        "        print(\"step: %i, loss: %f, accuracy: %f\" % (step, loss, acc))"
      ],
      "execution_count": 11,
      "outputs": [
        {
          "output_type": "stream",
          "name": "stdout",
          "text": [
            "step: 200, loss: 35.877869, accuracy: 0.890625\n",
            "step: 400, loss: 22.180206, accuracy: 0.953125\n",
            "step: 600, loss: 19.153175, accuracy: 0.953125\n",
            "step: 800, loss: 15.971523, accuracy: 0.984375\n",
            "step: 1000, loss: 10.716794, accuracy: 0.976562\n",
            "step: 1200, loss: 26.832495, accuracy: 0.953125\n",
            "step: 1400, loss: 8.988423, accuracy: 0.992188\n",
            "step: 1600, loss: 9.097746, accuracy: 0.976562\n"
          ]
        }
      ]
    },
    {
      "cell_type": "code",
      "metadata": {
        "colab": {
          "base_uri": "https://localhost:8080/"
        },
        "id": "wIGHIMA2MDfM",
        "outputId": "92754e1e-5944-482c-bddc-b93921129945"
      },
      "source": [
        "pred = model(x_test)\n",
        "print(\"Test Accuracy: %f\" % accuracy(pred, y_test)) # Finding and printing testing accuracy"
      ],
      "execution_count": 12,
      "outputs": [
        {
          "output_type": "stream",
          "name": "stdout",
          "text": [
            "Test Accuracy: 0.962900\n"
          ]
        }
      ]
    },
    {
      "cell_type": "code",
      "metadata": {
        "colab": {
          "base_uri": "https://localhost:8080/",
          "height": 812
        },
        "id": "ksqbX66UMFyZ",
        "outputId": "bbc6ef17-27b0-487d-b676-3224e2dcdfa0"
      },
      "source": [
        "n_images = 3\n",
        "test_images = x_test[:n_images]\n",
        "predictions = model(test_images)\n",
        "\n",
        "# Display image and model prediction.\n",
        "for i in range(n_images):\n",
        "    plt.imshow(np.reshape(test_images[i], [28, 28]), cmap='gray')\n",
        "    plt.show()\n",
        "    print(\"Model prediction: %i\" % np.argmax(predictions.numpy()[i]))"
      ],
      "execution_count": 13,
      "outputs": [
        {
          "output_type": "display_data",
          "data": {
            "image/png": "[encoded data removed]",
            "text/plain": [
              "<Figure size 432x288 with 1 Axes>"
            ]
          },
          "metadata": {
            "needs_background": "light"
          }
        },
        {
          "output_type": "stream",
          "name": "stdout",
          "text": [
            "Model prediction: 7\n"
          ]
        },
        {
          "output_type": "display_data",
          "data": {
            "image/png": "[encoded data removed]",
            "text/plain": [
              "<Figure size 432x288 with 1 Axes>"
            ]
          },
          "metadata": {
            "needs_background": "light"
          }
        },
        {
          "output_type": "stream",
          "name": "stdout",
          "text": [
            "Model prediction: 2\n"
          ]
        },
        {
          "output_type": "display_data",
          "data": {
            "image/png": "[encoded data removed]",
            "text/plain": [
              "<Figure size 432x288 with 1 Axes>"
            ]
          },
          "metadata": {
            "needs_background": "light"
          }
        },
        {
          "output_type": "stream",
          "name": "stdout",
          "text": [
            "Model prediction: 1\n"
          ]
        }
      ]
    }
  ]
}