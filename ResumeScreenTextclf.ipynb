{
  "nbformat": 4,
  "nbformat_minor": 0,
  "metadata": {
    "kernelspec": {
      "language": "python",
      "display_name": "Python 3",
      "name": "python3"
    },
    "language_info": {
      "name": "python",
      "version": "3.7.10",
      "mimetype": "text/x-python",
      "codemirror_mode": {
        "name": "ipython",
        "version": 3
      },
      "pygments_lexer": "ipython3",
      "nbconvert_exporter": "python",
      "file_extension": ".py"
    },
    "colab": {
      "name": "ResumeScreenTextclf.ipynb",
      "provenance": [],
      "collapsed_sections": []
    }
  },
  "cells": [
    {
      "cell_type": "code",
      "metadata": {
        "_uuid": "8f2839f25d086af736a60e9eeb907d3b93b6e0e5",
        "_cell_guid": "b1076dfc-b9ad-4769-8c92-a6c4dae69d19",
        "execution": {
          "iopub.status.busy": "2021-10-05T13:02:24.445568Z",
          "iopub.execute_input": "2021-10-05T13:02:24.446072Z",
          "iopub.status.idle": "2021-10-05T13:02:24.454513Z",
          "shell.execute_reply.started": "2021-10-05T13:02:24.446032Z",
          "shell.execute_reply": "2021-10-05T13:02:24.453388Z"
        },
        "trusted": true,
        "id": "Ec88x0R0pgLY"
      },
      "source": [
        "import numpy as np \n",
        "import pandas as pd \n",
        "import nltk\n",
        "import tensorflow as tf"
      ],
      "execution_count": 1,
      "outputs": []
    },
    {
      "cell_type": "code",
      "metadata": {
        "colab": {
          "base_uri": "https://localhost:8080/"
        },
        "id": "PTxg0hxArJMU",
        "outputId": "dd92a4d7-d955-4b65-f974-a43801539d78"
      },
      "source": [
        "nltk.download('stopwords')"
      ],
      "execution_count": 2,
      "outputs": [
        {
          "output_type": "stream",
          "name": "stdout",
          "text": [
            "[nltk_data] Downloading package stopwords to /root/nltk_data...\n",
            "[nltk_data]   Package stopwords is already up-to-date!\n"
          ]
        },
        {
          "output_type": "execute_result",
          "data": {
            "text/plain": [
              "True"
            ]
          },
          "metadata": {},
          "execution_count": 2
        }
      ]
    },
    {
      "cell_type": "code",
      "metadata": {
        "id": "UYcxzzhHq2tX"
      },
      "source": [
        "from nltk.corpus import stopwords\n",
        "stopwords = set(stopwords.words('english'))"
      ],
      "execution_count": 3,
      "outputs": []
    },
    {
      "cell_type": "code",
      "metadata": {
        "colab": {
          "base_uri": "https://localhost:8080/",
          "height": 204
        },
        "id": "QHf0Qvpvp5jL",
        "outputId": "7d7460a0-e7cc-43c0-d97f-3c96d1142c97"
      },
      "source": [
        "data = pd.read_csv('UpdatedResumeDataSet.csv')\n",
        "data.head()"
      ],
      "execution_count": 4,
      "outputs": [
        {
          "output_type": "execute_result",
          "data": {
            "text/html": [
              "<div>\n",
              "<style scoped>\n",
              "    .dataframe tbody tr th:only-of-type {\n",
              "        vertical-align: middle;\n",
              "    }\n",
              "\n",
              "    .dataframe tbody tr th {\n",
              "        vertical-align: top;\n",
              "    }\n",
              "\n",
              "    .dataframe thead th {\n",
              "        text-align: right;\n",
              "    }\n",
              "</style>\n",
              "<table border=\"1\" class=\"dataframe\">\n",
              "  <thead>\n",
              "    <tr style=\"text-align: right;\">\n",
              "      <th></th>\n",
              "      <th>Category</th>\n",
              "      <th>Resume</th>\n",
              "    </tr>\n",
              "  </thead>\n",
              "  <tbody>\n",
              "    <tr>\n",
              "      <th>0</th>\n",
              "      <td>Data Science</td>\n",
              "      <td>Skills * Programming Languages: Python (pandas...</td>\n",
              "    </tr>\n",
              "    <tr>\n",
              "      <th>1</th>\n",
              "      <td>Data Science</td>\n",
              "      <td>Education Details \\r\\nMay 2013 to May 2017 B.E...</td>\n",
              "    </tr>\n",
              "    <tr>\n",
              "      <th>2</th>\n",
              "      <td>Data Science</td>\n",
              "      <td>Areas of Interest Deep Learning, Control Syste...</td>\n",
              "    </tr>\n",
              "    <tr>\n",
              "      <th>3</th>\n",
              "      <td>Data Science</td>\n",
              "      <td>Skills â¢ R â¢ Python â¢ SAP HANA â¢ Table...</td>\n",
              "    </tr>\n",
              "    <tr>\n",
              "      <th>4</th>\n",
              "      <td>Data Science</td>\n",
              "      <td>Education Details \\r\\n MCA   YMCAUST,  Faridab...</td>\n",
              "    </tr>\n",
              "  </tbody>\n",
              "</table>\n",
              "</div>"
            ],
            "text/plain": [
              "       Category                                             Resume\n",
              "0  Data Science  Skills * Programming Languages: Python (pandas...\n",
              "1  Data Science  Education Details \\r\\nMay 2013 to May 2017 B.E...\n",
              "2  Data Science  Areas of Interest Deep Learning, Control Syste...\n",
              "3  Data Science  Skills â¢ R â¢ Python â¢ SAP HANA â¢ Table...\n",
              "4  Data Science  Education Details \\r\\n MCA   YMCAUST,  Faridab..."
            ]
          },
          "metadata": {},
          "execution_count": 4
        }
      ]
    },
    {
      "cell_type": "code",
      "metadata": {
        "colab": {
          "base_uri": "https://localhost:8080/"
        },
        "id": "jDtmbT8z5f1a",
        "outputId": "3138a6f5-007e-4d65-8740-b31b64f4b7bb"
      },
      "source": [
        "print(data['Category'].value_counts())"
      ],
      "execution_count": 5,
      "outputs": [
        {
          "output_type": "stream",
          "name": "stdout",
          "text": [
            "Java Developer               84\n",
            "Testing                      70\n",
            "DevOps Engineer              55\n",
            "Python Developer             48\n",
            "Web Designing                45\n",
            "HR                           44\n",
            "Hadoop                       42\n",
            "Operations Manager           40\n",
            "Blockchain                   40\n",
            "Sales                        40\n",
            "Mechanical Engineer          40\n",
            "Data Science                 40\n",
            "ETL Developer                40\n",
            "Arts                         36\n",
            "Database                     33\n",
            "Electrical Engineering       30\n",
            "PMO                          30\n",
            "Health and fitness           30\n",
            "DotNet Developer             28\n",
            "Business Analyst             28\n",
            "Automation Testing           26\n",
            "Network Security Engineer    25\n",
            "Civil Engineer               24\n",
            "SAP Developer                24\n",
            "Advocate                     20\n",
            "Name: Category, dtype: int64\n"
          ]
        }
      ]
    },
    {
      "cell_type": "code",
      "metadata": {
        "id": "t2goQH9W5e-n"
      },
      "source": [
        "import re\n",
        "\n",
        "def cleanResume(Text):\n",
        "    Text = re.sub('http\\S+\\s*', ' ', Text)\n",
        "    Text = re.sub('RT|cc', ' ', Text)\n",
        "    Text = re.sub('#\\S+', '', Text)\n",
        "    Text = re.sub('@\\S+', '  ', Text)\n",
        "    Text = re.sub('[%s]' % re.escape(\"\"\"!\"#$%&'()*+,-./:;<=>?@[\\]^_`{|}~\"\"\"), ' ', Text)\n",
        "    Text = re.sub(r'[^\\x00-\\x7f]',r' ', Text) \n",
        "    Text = re.sub('\\s+', ' ', Text)\n",
        "    return Text\n",
        "\n",
        "data['cleaned_resume'] = ''  \n",
        "data['cleaned_resume'] = data.Resume.apply(lambda x: cleanResume(x))"
      ],
      "execution_count": 6,
      "outputs": []
    },
    {
      "cell_type": "code",
      "metadata": {
        "colab": {
          "base_uri": "https://localhost:8080/",
          "height": 204
        },
        "id": "tfGSNCVl5lsl",
        "outputId": "24f2dcaa-0125-41ed-e95b-347a4ef7c33c"
      },
      "source": [
        "data.head()"
      ],
      "execution_count": 7,
      "outputs": [
        {
          "output_type": "execute_result",
          "data": {
            "text/html": [
              "<div>\n",
              "<style scoped>\n",
              "    .dataframe tbody tr th:only-of-type {\n",
              "        vertical-align: middle;\n",
              "    }\n",
              "\n",
              "    .dataframe tbody tr th {\n",
              "        vertical-align: top;\n",
              "    }\n",
              "\n",
              "    .dataframe thead th {\n",
              "        text-align: right;\n",
              "    }\n",
              "</style>\n",
              "<table border=\"1\" class=\"dataframe\">\n",
              "  <thead>\n",
              "    <tr style=\"text-align: right;\">\n",
              "      <th></th>\n",
              "      <th>Category</th>\n",
              "      <th>Resume</th>\n",
              "      <th>cleaned_resume</th>\n",
              "    </tr>\n",
              "  </thead>\n",
              "  <tbody>\n",
              "    <tr>\n",
              "      <th>0</th>\n",
              "      <td>Data Science</td>\n",
              "      <td>Skills * Programming Languages: Python (pandas...</td>\n",
              "      <td>Skills Programming Languages Python pandas num...</td>\n",
              "    </tr>\n",
              "    <tr>\n",
              "      <th>1</th>\n",
              "      <td>Data Science</td>\n",
              "      <td>Education Details \\r\\nMay 2013 to May 2017 B.E...</td>\n",
              "      <td>Education Details May 2013 to May 2017 B E UIT...</td>\n",
              "    </tr>\n",
              "    <tr>\n",
              "      <th>2</th>\n",
              "      <td>Data Science</td>\n",
              "      <td>Areas of Interest Deep Learning, Control Syste...</td>\n",
              "      <td>Areas of Interest Deep Learning Control System...</td>\n",
              "    </tr>\n",
              "    <tr>\n",
              "      <th>3</th>\n",
              "      <td>Data Science</td>\n",
              "      <td>Skills â¢ R â¢ Python â¢ SAP HANA â¢ Table...</td>\n",
              "      <td>Skills R Python SAP HANA Tableau SAP HANA SQL ...</td>\n",
              "    </tr>\n",
              "    <tr>\n",
              "      <th>4</th>\n",
              "      <td>Data Science</td>\n",
              "      <td>Education Details \\r\\n MCA   YMCAUST,  Faridab...</td>\n",
              "      <td>Education Details MCA YMCAUST Faridabad Haryan...</td>\n",
              "    </tr>\n",
              "  </tbody>\n",
              "</table>\n",
              "</div>"
            ],
            "text/plain": [
              "       Category  ...                                     cleaned_resume\n",
              "0  Data Science  ...  Skills Programming Languages Python pandas num...\n",
              "1  Data Science  ...  Education Details May 2013 to May 2017 B E UIT...\n",
              "2  Data Science  ...  Areas of Interest Deep Learning Control System...\n",
              "3  Data Science  ...  Skills R Python SAP HANA Tableau SAP HANA SQL ...\n",
              "4  Data Science  ...  Education Details MCA YMCAUST Faridabad Haryan...\n",
              "\n",
              "[5 rows x 3 columns]"
            ]
          },
          "metadata": {},
          "execution_count": 7
        }
      ]
    },
    {
      "cell_type": "code",
      "metadata": {
        "id": "EUWBjXOC9HZb"
      },
      "source": [
        "for i in range(962):\n",
        "  str = data.Category[i]\n",
        "  for j in range(len(str)):\n",
        "    str = str.replace(\" \", \"\")\n",
        "  data.Category[i] = str"
      ],
      "execution_count": 8,
      "outputs": []
    },
    {
      "cell_type": "code",
      "metadata": {
        "colab": {
          "base_uri": "https://localhost:8080/",
          "height": 204
        },
        "id": "7uj4mOHA_BNq",
        "outputId": "d19e7ba9-6764-44ea-d1f0-1f8ed64d1f55"
      },
      "source": [
        "data.head()"
      ],
      "execution_count": 9,
      "outputs": [
        {
          "output_type": "execute_result",
          "data": {
            "text/html": [
              "<div>\n",
              "<style scoped>\n",
              "    .dataframe tbody tr th:only-of-type {\n",
              "        vertical-align: middle;\n",
              "    }\n",
              "\n",
              "    .dataframe tbody tr th {\n",
              "        vertical-align: top;\n",
              "    }\n",
              "\n",
              "    .dataframe thead th {\n",
              "        text-align: right;\n",
              "    }\n",
              "</style>\n",
              "<table border=\"1\" class=\"dataframe\">\n",
              "  <thead>\n",
              "    <tr style=\"text-align: right;\">\n",
              "      <th></th>\n",
              "      <th>Category</th>\n",
              "      <th>Resume</th>\n",
              "      <th>cleaned_resume</th>\n",
              "    </tr>\n",
              "  </thead>\n",
              "  <tbody>\n",
              "    <tr>\n",
              "      <th>0</th>\n",
              "      <td>DataScience</td>\n",
              "      <td>Skills * Programming Languages: Python (pandas...</td>\n",
              "      <td>Skills Programming Languages Python pandas num...</td>\n",
              "    </tr>\n",
              "    <tr>\n",
              "      <th>1</th>\n",
              "      <td>DataScience</td>\n",
              "      <td>Education Details \\r\\nMay 2013 to May 2017 B.E...</td>\n",
              "      <td>Education Details May 2013 to May 2017 B E UIT...</td>\n",
              "    </tr>\n",
              "    <tr>\n",
              "      <th>2</th>\n",
              "      <td>DataScience</td>\n",
              "      <td>Areas of Interest Deep Learning, Control Syste...</td>\n",
              "      <td>Areas of Interest Deep Learning Control System...</td>\n",
              "    </tr>\n",
              "    <tr>\n",
              "      <th>3</th>\n",
              "      <td>DataScience</td>\n",
              "      <td>Skills â¢ R â¢ Python â¢ SAP HANA â¢ Table...</td>\n",
              "      <td>Skills R Python SAP HANA Tableau SAP HANA SQL ...</td>\n",
              "    </tr>\n",
              "    <tr>\n",
              "      <th>4</th>\n",
              "      <td>DataScience</td>\n",
              "      <td>Education Details \\r\\n MCA   YMCAUST,  Faridab...</td>\n",
              "      <td>Education Details MCA YMCAUST Faridabad Haryan...</td>\n",
              "    </tr>\n",
              "  </tbody>\n",
              "</table>\n",
              "</div>"
            ],
            "text/plain": [
              "      Category  ...                                     cleaned_resume\n",
              "0  DataScience  ...  Skills Programming Languages Python pandas num...\n",
              "1  DataScience  ...  Education Details May 2013 to May 2017 B E UIT...\n",
              "2  DataScience  ...  Areas of Interest Deep Learning Control System...\n",
              "3  DataScience  ...  Skills R Python SAP HANA Tableau SAP HANA SQL ...\n",
              "4  DataScience  ...  Education Details MCA YMCAUST Faridabad Haryan...\n",
              "\n",
              "[5 rows x 3 columns]"
            ]
          },
          "metadata": {},
          "execution_count": 9
        }
      ]
    },
    {
      "cell_type": "code",
      "metadata": {
        "id": "vx_BmWj5rm7Y"
      },
      "source": [
        "sentences = list(data.cleaned_resume)"
      ],
      "execution_count": 10,
      "outputs": []
    },
    {
      "cell_type": "code",
      "metadata": {
        "colab": {
          "base_uri": "https://localhost:8080/"
        },
        "id": "1KR3Jw120W__",
        "outputId": "fc9bef05-b663-4071-ff8d-0e113be0cf0f"
      },
      "source": [
        "print(data.Category.unique())"
      ],
      "execution_count": 11,
      "outputs": [
        {
          "output_type": "stream",
          "name": "stdout",
          "text": [
            "['DataScience' 'HR' 'Advocate' 'Arts' 'WebDesigning' 'MechanicalEngineer'\n",
            " 'Sales' 'Healthandfitness' 'CivilEngineer' 'JavaDeveloper'\n",
            " 'BusinessAnalyst' 'SAPDeveloper' 'AutomationTesting'\n",
            " 'ElectricalEngineering' 'OperationsManager' 'PythonDeveloper'\n",
            " 'DevOpsEngineer' 'NetworkSecurityEngineer' 'PMO' 'Database' 'Hadoop'\n",
            " 'ETLDeveloper' 'DotNetDeveloper' 'Blockchain' 'Testing']\n"
          ]
        }
      ]
    },
    {
      "cell_type": "code",
      "metadata": {
        "colab": {
          "base_uri": "https://localhost:8080/"
        },
        "id": "Qpi5boubrtmr",
        "outputId": "dd4094a3-d7ff-4eab-8d01-47bb1713e56c"
      },
      "source": [
        "print(len(sentences))"
      ],
      "execution_count": 12,
      "outputs": [
        {
          "output_type": "stream",
          "name": "stdout",
          "text": [
            "962\n"
          ]
        }
      ]
    },
    {
      "cell_type": "code",
      "metadata": {
        "id": "I5Z9RcKAvGxe"
      },
      "source": [
        "for idx in range(len(sentences)):\n",
        "  sentence = sentences[idx]\n",
        "  for word in stopwords:\n",
        "    token = \" \" + word + \" \"\n",
        "    sentence = sentence.replace(token, \" \")\n",
        "    sentence = sentence.replace(\"  \", \" \")\n",
        "  sentences[idx] = sentence"
      ],
      "execution_count": 13,
      "outputs": []
    },
    {
      "cell_type": "code",
      "metadata": {
        "id": "ajLvII6JsxDq"
      },
      "source": [
        "labels = list(data.Category)"
      ],
      "execution_count": 14,
      "outputs": []
    },
    {
      "cell_type": "code",
      "metadata": {
        "execution": {
          "iopub.status.busy": "2021-10-05T13:08:37.728539Z",
          "iopub.execute_input": "2021-10-05T13:08:37.728895Z",
          "iopub.status.idle": "2021-10-05T13:08:38.686992Z",
          "shell.execute_reply.started": "2021-10-05T13:08:37.728859Z",
          "shell.execute_reply": "2021-10-05T13:08:38.685880Z"
        },
        "trusted": true,
        "id": "MzJx-6fzpgLf"
      },
      "source": [
        "from tensorflow.keras.preprocessing.text import Tokenizer\n",
        "from tensorflow.keras.preprocessing.sequence import pad_sequences\n",
        "\n",
        "vocab_size = 30000\n",
        "embedding_dim = 32\n",
        "max_length = 1024"
      ],
      "execution_count": 15,
      "outputs": []
    },
    {
      "cell_type": "code",
      "metadata": {
        "execution": {
          "iopub.status.busy": "2021-10-05T13:02:40.641281Z",
          "iopub.execute_input": "2021-10-05T13:02:40.641537Z",
          "iopub.status.idle": "2021-10-05T13:02:41.104011Z",
          "shell.execute_reply.started": "2021-10-05T13:02:40.641511Z",
          "shell.execute_reply": "2021-10-05T13:02:41.102808Z"
        },
        "trusted": true,
        "id": "jHUOBFIzpgLk"
      },
      "source": [
        "import matplotlib.pyplot as plt\n",
        "\n",
        "\n",
        "def plot_history(history, string):\n",
        "    plt.plot(history.history[string])\n",
        "    plt.plot(history.history['val_'+string])\n",
        "    plt.xlabel(\"Epochs\")\n",
        "    plt.ylabel(string)\n",
        "    plt.legend([string, 'val_'+string])\n",
        "    plt.show()\n",
        "    "
      ],
      "execution_count": 16,
      "outputs": []
    },
    {
      "cell_type": "code",
      "metadata": {
        "execution": {
          "iopub.status.busy": "2021-10-05T13:02:41.234153Z",
          "iopub.execute_input": "2021-10-05T13:02:41.234534Z",
          "iopub.status.idle": "2021-10-05T13:02:41.846381Z",
          "shell.execute_reply.started": "2021-10-05T13:02:41.234507Z",
          "shell.execute_reply": "2021-10-05T13:02:41.845373Z"
        },
        "trusted": true,
        "id": "XmFUpYEOpgLm"
      },
      "source": [
        "from sklearn.model_selection import train_test_split\n",
        "X_train, X_test, y_train, y_test = train_test_split(sentences, labels, train_size = 0.8, random_state = 1, shuffle = True)"
      ],
      "execution_count": 17,
      "outputs": []
    },
    {
      "cell_type": "code",
      "metadata": {
        "execution": {
          "iopub.status.busy": "2021-10-05T13:02:41.847829Z",
          "iopub.execute_input": "2021-10-05T13:02:41.848245Z",
          "iopub.status.idle": "2021-10-05T13:02:42.713819Z",
          "shell.execute_reply.started": "2021-10-05T13:02:41.848199Z",
          "shell.execute_reply": "2021-10-05T13:02:42.712754Z"
        },
        "trusted": true,
        "id": "zr5glKlcpgLm"
      },
      "source": [
        "tokenizer = Tokenizer(num_words = 15000, oov_token='<OOV>')\n",
        "tokenizer.fit_on_texts(X_train)\n",
        "word_index = tokenizer.word_index\n",
        "X_train_seq = tokenizer.texts_to_sequences(X_train)\n",
        "X_train_padded = pad_sequences(X_train_seq, padding='post', maxlen=max_length)\n",
        "X_test_seq = tokenizer.texts_to_sequences(X_test)\n",
        "X_test_padded = pad_sequences(X_test_seq, padding='post', maxlen=max_length)"
      ],
      "execution_count": 18,
      "outputs": []
    },
    {
      "cell_type": "code",
      "metadata": {
        "id": "6_EN7Usq6Ft7"
      },
      "source": [
        "label_tokenizer = Tokenizer()\n",
        "label_tokenizer.fit_on_texts(labels)\n",
        "label_index = label_tokenizer.word_index"
      ],
      "execution_count": 19,
      "outputs": []
    },
    {
      "cell_type": "code",
      "metadata": {
        "colab": {
          "base_uri": "https://localhost:8080/"
        },
        "id": "ahZstiQF73WR",
        "outputId": "89d973dd-dd4d-4d95-97b1-8c3aa0e50db5"
      },
      "source": [
        "print(label_index)"
      ],
      "execution_count": 20,
      "outputs": [
        {
          "output_type": "stream",
          "name": "stdout",
          "text": [
            "{'javadeveloper': 1, 'testing': 2, 'devopsengineer': 3, 'pythondeveloper': 4, 'webdesigning': 5, 'hr': 6, 'hadoop': 7, 'datascience': 8, 'mechanicalengineer': 9, 'sales': 10, 'operationsmanager': 11, 'etldeveloper': 12, 'blockchain': 13, 'arts': 14, 'database': 15, 'healthandfitness': 16, 'electricalengineering': 17, 'pmo': 18, 'businessanalyst': 19, 'dotnetdeveloper': 20, 'automationtesting': 21, 'networksecurityengineer': 22, 'civilengineer': 23, 'sapdeveloper': 24, 'advocate': 25}\n"
          ]
        }
      ]
    },
    {
      "cell_type": "code",
      "metadata": {
        "id": "nePoaR0SWDcm"
      },
      "source": [
        "y_train_label_seq = np.array(label_tokenizer.texts_to_sequences(y_train))\n",
        "y_test_label_seq = np.array(label_tokenizer.texts_to_sequences(y_test))"
      ],
      "execution_count": 21,
      "outputs": []
    },
    {
      "cell_type": "code",
      "metadata": {
        "id": "_YMhc9OjUNmA",
        "colab": {
          "base_uri": "https://localhost:8080/"
        },
        "outputId": "46730a52-5600-487a-e3e2-163421b7506b"
      },
      "source": [
        "print(y_train_label_seq)"
      ],
      "execution_count": 22,
      "outputs": [
        {
          "output_type": "stream",
          "name": "stdout",
          "text": [
            "[[13]\n",
            " [ 9]\n",
            " [ 7]\n",
            " [ 2]\n",
            " [ 7]\n",
            " [17]\n",
            " [ 9]\n",
            " [ 3]\n",
            " [ 2]\n",
            " [ 1]\n",
            " [24]\n",
            " [ 5]\n",
            " [ 8]\n",
            " [20]\n",
            " [25]\n",
            " [22]\n",
            " [ 3]\n",
            " [21]\n",
            " [11]\n",
            " [13]\n",
            " [22]\n",
            " [14]\n",
            " [11]\n",
            " [ 5]\n",
            " [ 7]\n",
            " [12]\n",
            " [ 2]\n",
            " [11]\n",
            " [13]\n",
            " [15]\n",
            " [14]\n",
            " [ 9]\n",
            " [ 6]\n",
            " [21]\n",
            " [ 4]\n",
            " [14]\n",
            " [18]\n",
            " [ 9]\n",
            " [14]\n",
            " [18]\n",
            " [ 3]\n",
            " [11]\n",
            " [ 8]\n",
            " [15]\n",
            " [ 7]\n",
            " [ 7]\n",
            " [23]\n",
            " [ 1]\n",
            " [ 5]\n",
            " [18]\n",
            " [19]\n",
            " [ 3]\n",
            " [ 3]\n",
            " [13]\n",
            " [19]\n",
            " [14]\n",
            " [ 1]\n",
            " [ 8]\n",
            " [12]\n",
            " [ 6]\n",
            " [ 7]\n",
            " [20]\n",
            " [19]\n",
            " [ 4]\n",
            " [ 3]\n",
            " [18]\n",
            " [13]\n",
            " [ 4]\n",
            " [20]\n",
            " [ 6]\n",
            " [ 9]\n",
            " [11]\n",
            " [16]\n",
            " [ 1]\n",
            " [14]\n",
            " [ 4]\n",
            " [ 2]\n",
            " [ 9]\n",
            " [ 7]\n",
            " [ 7]\n",
            " [19]\n",
            " [ 1]\n",
            " [ 6]\n",
            " [20]\n",
            " [23]\n",
            " [ 3]\n",
            " [ 3]\n",
            " [20]\n",
            " [18]\n",
            " [ 2]\n",
            " [12]\n",
            " [14]\n",
            " [ 7]\n",
            " [ 1]\n",
            " [ 6]\n",
            " [ 1]\n",
            " [15]\n",
            " [15]\n",
            " [ 1]\n",
            " [16]\n",
            " [ 6]\n",
            " [16]\n",
            " [12]\n",
            " [ 9]\n",
            " [17]\n",
            " [17]\n",
            " [ 8]\n",
            " [13]\n",
            " [ 6]\n",
            " [ 1]\n",
            " [ 2]\n",
            " [12]\n",
            " [15]\n",
            " [11]\n",
            " [16]\n",
            " [ 7]\n",
            " [15]\n",
            " [10]\n",
            " [10]\n",
            " [ 5]\n",
            " [18]\n",
            " [ 2]\n",
            " [13]\n",
            " [ 2]\n",
            " [12]\n",
            " [13]\n",
            " [10]\n",
            " [11]\n",
            " [10]\n",
            " [ 9]\n",
            " [25]\n",
            " [14]\n",
            " [ 2]\n",
            " [ 6]\n",
            " [ 2]\n",
            " [12]\n",
            " [14]\n",
            " [17]\n",
            " [12]\n",
            " [ 6]\n",
            " [16]\n",
            " [10]\n",
            " [ 2]\n",
            " [20]\n",
            " [ 6]\n",
            " [25]\n",
            " [ 9]\n",
            " [ 1]\n",
            " [ 6]\n",
            " [ 3]\n",
            " [ 2]\n",
            " [14]\n",
            " [24]\n",
            " [14]\n",
            " [ 1]\n",
            " [13]\n",
            " [17]\n",
            " [ 1]\n",
            " [18]\n",
            " [ 2]\n",
            " [ 3]\n",
            " [ 2]\n",
            " [ 4]\n",
            " [ 8]\n",
            " [ 6]\n",
            " [24]\n",
            " [22]\n",
            " [ 2]\n",
            " [25]\n",
            " [16]\n",
            " [ 5]\n",
            " [20]\n",
            " [25]\n",
            " [13]\n",
            " [ 3]\n",
            " [ 6]\n",
            " [ 1]\n",
            " [15]\n",
            " [ 1]\n",
            " [ 4]\n",
            " [12]\n",
            " [ 8]\n",
            " [ 9]\n",
            " [ 1]\n",
            " [22]\n",
            " [ 7]\n",
            " [ 5]\n",
            " [23]\n",
            " [16]\n",
            " [15]\n",
            " [ 3]\n",
            " [ 7]\n",
            " [15]\n",
            " [22]\n",
            " [ 7]\n",
            " [ 5]\n",
            " [ 2]\n",
            " [ 3]\n",
            " [10]\n",
            " [23]\n",
            " [ 8]\n",
            " [21]\n",
            " [24]\n",
            " [ 4]\n",
            " [16]\n",
            " [24]\n",
            " [13]\n",
            " [15]\n",
            " [14]\n",
            " [19]\n",
            " [21]\n",
            " [25]\n",
            " [21]\n",
            " [12]\n",
            " [ 2]\n",
            " [17]\n",
            " [22]\n",
            " [25]\n",
            " [ 6]\n",
            " [ 9]\n",
            " [22]\n",
            " [ 5]\n",
            " [ 3]\n",
            " [18]\n",
            " [25]\n",
            " [ 2]\n",
            " [18]\n",
            " [17]\n",
            " [ 4]\n",
            " [19]\n",
            " [ 1]\n",
            " [ 3]\n",
            " [ 7]\n",
            " [ 8]\n",
            " [ 6]\n",
            " [11]\n",
            " [17]\n",
            " [ 5]\n",
            " [ 7]\n",
            " [ 5]\n",
            " [ 9]\n",
            " [18]\n",
            " [15]\n",
            " [ 4]\n",
            " [18]\n",
            " [ 1]\n",
            " [ 6]\n",
            " [ 1]\n",
            " [20]\n",
            " [ 2]\n",
            " [19]\n",
            " [ 5]\n",
            " [16]\n",
            " [ 6]\n",
            " [10]\n",
            " [24]\n",
            " [ 1]\n",
            " [23]\n",
            " [10]\n",
            " [ 1]\n",
            " [ 8]\n",
            " [ 3]\n",
            " [18]\n",
            " [ 8]\n",
            " [ 7]\n",
            " [ 5]\n",
            " [ 8]\n",
            " [ 4]\n",
            " [21]\n",
            " [ 1]\n",
            " [16]\n",
            " [ 7]\n",
            " [ 2]\n",
            " [ 8]\n",
            " [ 9]\n",
            " [ 7]\n",
            " [ 1]\n",
            " [ 7]\n",
            " [ 3]\n",
            " [10]\n",
            " [ 2]\n",
            " [14]\n",
            " [ 3]\n",
            " [ 1]\n",
            " [ 8]\n",
            " [ 1]\n",
            " [12]\n",
            " [ 1]\n",
            " [ 2]\n",
            " [17]\n",
            " [ 5]\n",
            " [ 6]\n",
            " [14]\n",
            " [ 8]\n",
            " [ 8]\n",
            " [ 8]\n",
            " [ 4]\n",
            " [19]\n",
            " [ 7]\n",
            " [ 1]\n",
            " [24]\n",
            " [16]\n",
            " [22]\n",
            " [25]\n",
            " [18]\n",
            " [15]\n",
            " [10]\n",
            " [19]\n",
            " [18]\n",
            " [11]\n",
            " [ 4]\n",
            " [13]\n",
            " [14]\n",
            " [24]\n",
            " [11]\n",
            " [ 1]\n",
            " [15]\n",
            " [15]\n",
            " [17]\n",
            " [13]\n",
            " [ 1]\n",
            " [ 2]\n",
            " [ 1]\n",
            " [12]\n",
            " [10]\n",
            " [ 1]\n",
            " [ 5]\n",
            " [ 1]\n",
            " [17]\n",
            " [ 1]\n",
            " [23]\n",
            " [ 6]\n",
            " [15]\n",
            " [11]\n",
            " [ 3]\n",
            " [20]\n",
            " [ 4]\n",
            " [13]\n",
            " [ 2]\n",
            " [ 4]\n",
            " [15]\n",
            " [ 4]\n",
            " [24]\n",
            " [16]\n",
            " [20]\n",
            " [11]\n",
            " [ 1]\n",
            " [17]\n",
            " [12]\n",
            " [ 3]\n",
            " [25]\n",
            " [14]\n",
            " [11]\n",
            " [ 1]\n",
            " [ 9]\n",
            " [ 1]\n",
            " [ 7]\n",
            " [20]\n",
            " [11]\n",
            " [ 7]\n",
            " [17]\n",
            " [10]\n",
            " [11]\n",
            " [ 1]\n",
            " [10]\n",
            " [24]\n",
            " [25]\n",
            " [20]\n",
            " [ 2]\n",
            " [11]\n",
            " [ 4]\n",
            " [ 9]\n",
            " [ 1]\n",
            " [ 4]\n",
            " [12]\n",
            " [ 2]\n",
            " [10]\n",
            " [ 8]\n",
            " [ 5]\n",
            " [16]\n",
            " [ 4]\n",
            " [ 1]\n",
            " [11]\n",
            " [ 1]\n",
            " [ 7]\n",
            " [ 3]\n",
            " [25]\n",
            " [ 9]\n",
            " [ 1]\n",
            " [19]\n",
            " [ 7]\n",
            " [14]\n",
            " [ 5]\n",
            " [ 2]\n",
            " [14]\n",
            " [ 8]\n",
            " [14]\n",
            " [ 1]\n",
            " [ 1]\n",
            " [24]\n",
            " [ 4]\n",
            " [ 1]\n",
            " [ 2]\n",
            " [10]\n",
            " [12]\n",
            " [ 7]\n",
            " [19]\n",
            " [12]\n",
            " [ 5]\n",
            " [20]\n",
            " [ 7]\n",
            " [12]\n",
            " [ 6]\n",
            " [18]\n",
            " [23]\n",
            " [ 6]\n",
            " [ 3]\n",
            " [13]\n",
            " [20]\n",
            " [ 3]\n",
            " [12]\n",
            " [14]\n",
            " [12]\n",
            " [ 8]\n",
            " [ 3]\n",
            " [11]\n",
            " [ 3]\n",
            " [23]\n",
            " [ 4]\n",
            " [19]\n",
            " [ 5]\n",
            " [19]\n",
            " [15]\n",
            " [12]\n",
            " [ 3]\n",
            " [21]\n",
            " [20]\n",
            " [19]\n",
            " [23]\n",
            " [ 1]\n",
            " [11]\n",
            " [20]\n",
            " [24]\n",
            " [13]\n",
            " [ 5]\n",
            " [ 2]\n",
            " [ 4]\n",
            " [12]\n",
            " [20]\n",
            " [19]\n",
            " [ 5]\n",
            " [11]\n",
            " [20]\n",
            " [ 2]\n",
            " [12]\n",
            " [ 9]\n",
            " [24]\n",
            " [14]\n",
            " [ 1]\n",
            " [ 5]\n",
            " [11]\n",
            " [16]\n",
            " [19]\n",
            " [18]\n",
            " [14]\n",
            " [14]\n",
            " [ 6]\n",
            " [ 3]\n",
            " [16]\n",
            " [ 2]\n",
            " [ 1]\n",
            " [10]\n",
            " [ 5]\n",
            " [ 3]\n",
            " [23]\n",
            " [15]\n",
            " [10]\n",
            " [10]\n",
            " [13]\n",
            " [ 1]\n",
            " [21]\n",
            " [22]\n",
            " [15]\n",
            " [21]\n",
            " [ 5]\n",
            " [ 5]\n",
            " [ 5]\n",
            " [ 9]\n",
            " [17]\n",
            " [ 9]\n",
            " [ 1]\n",
            " [22]\n",
            " [18]\n",
            " [12]\n",
            " [13]\n",
            " [ 4]\n",
            " [ 6]\n",
            " [ 7]\n",
            " [18]\n",
            " [13]\n",
            " [12]\n",
            " [10]\n",
            " [ 7]\n",
            " [25]\n",
            " [16]\n",
            " [24]\n",
            " [ 2]\n",
            " [ 6]\n",
            " [ 1]\n",
            " [ 2]\n",
            " [ 2]\n",
            " [22]\n",
            " [10]\n",
            " [17]\n",
            " [21]\n",
            " [22]\n",
            " [16]\n",
            " [ 6]\n",
            " [14]\n",
            " [ 8]\n",
            " [ 9]\n",
            " [ 3]\n",
            " [ 5]\n",
            " [ 4]\n",
            " [ 2]\n",
            " [ 4]\n",
            " [11]\n",
            " [ 8]\n",
            " [ 3]\n",
            " [14]\n",
            " [14]\n",
            " [ 1]\n",
            " [ 9]\n",
            " [ 8]\n",
            " [16]\n",
            " [15]\n",
            " [ 6]\n",
            " [ 2]\n",
            " [ 2]\n",
            " [13]\n",
            " [ 6]\n",
            " [13]\n",
            " [ 2]\n",
            " [ 3]\n",
            " [11]\n",
            " [21]\n",
            " [11]\n",
            " [ 6]\n",
            " [19]\n",
            " [ 1]\n",
            " [13]\n",
            " [ 1]\n",
            " [24]\n",
            " [ 2]\n",
            " [10]\n",
            " [22]\n",
            " [ 4]\n",
            " [21]\n",
            " [19]\n",
            " [20]\n",
            " [23]\n",
            " [20]\n",
            " [18]\n",
            " [ 9]\n",
            " [20]\n",
            " [23]\n",
            " [ 8]\n",
            " [19]\n",
            " [ 1]\n",
            " [ 9]\n",
            " [24]\n",
            " [14]\n",
            " [11]\n",
            " [18]\n",
            " [15]\n",
            " [ 3]\n",
            " [ 3]\n",
            " [ 9]\n",
            " [ 2]\n",
            " [ 2]\n",
            " [13]\n",
            " [17]\n",
            " [ 7]\n",
            " [10]\n",
            " [19]\n",
            " [15]\n",
            " [ 4]\n",
            " [23]\n",
            " [ 5]\n",
            " [12]\n",
            " [ 2]\n",
            " [18]\n",
            " [ 3]\n",
            " [ 3]\n",
            " [17]\n",
            " [16]\n",
            " [ 3]\n",
            " [ 8]\n",
            " [ 5]\n",
            " [ 1]\n",
            " [13]\n",
            " [ 4]\n",
            " [ 5]\n",
            " [ 1]\n",
            " [18]\n",
            " [ 9]\n",
            " [21]\n",
            " [12]\n",
            " [18]\n",
            " [16]\n",
            " [ 3]\n",
            " [15]\n",
            " [17]\n",
            " [14]\n",
            " [ 1]\n",
            " [12]\n",
            " [17]\n",
            " [ 4]\n",
            " [ 3]\n",
            " [ 9]\n",
            " [ 5]\n",
            " [19]\n",
            " [22]\n",
            " [21]\n",
            " [15]\n",
            " [ 5]\n",
            " [ 2]\n",
            " [ 8]\n",
            " [16]\n",
            " [25]\n",
            " [ 9]\n",
            " [ 2]\n",
            " [ 7]\n",
            " [ 4]\n",
            " [12]\n",
            " [ 7]\n",
            " [11]\n",
            " [ 2]\n",
            " [11]\n",
            " [ 2]\n",
            " [ 1]\n",
            " [ 6]\n",
            " [15]\n",
            " [ 6]\n",
            " [10]\n",
            " [ 2]\n",
            " [ 5]\n",
            " [ 2]\n",
            " [11]\n",
            " [ 2]\n",
            " [21]\n",
            " [ 4]\n",
            " [ 7]\n",
            " [21]\n",
            " [10]\n",
            " [ 7]\n",
            " [20]\n",
            " [ 1]\n",
            " [ 1]\n",
            " [18]\n",
            " [ 5]\n",
            " [ 2]\n",
            " [23]\n",
            " [ 9]\n",
            " [ 4]\n",
            " [ 1]\n",
            " [10]\n",
            " [12]\n",
            " [25]\n",
            " [ 7]\n",
            " [22]\n",
            " [13]\n",
            " [ 7]\n",
            " [19]\n",
            " [16]\n",
            " [ 3]\n",
            " [ 5]\n",
            " [ 4]\n",
            " [ 2]\n",
            " [ 5]\n",
            " [ 1]\n",
            " [ 1]\n",
            " [16]\n",
            " [14]\n",
            " [18]\n",
            " [ 7]\n",
            " [ 8]\n",
            " [ 3]\n",
            " [22]\n",
            " [16]\n",
            " [21]\n",
            " [15]\n",
            " [ 1]\n",
            " [ 8]\n",
            " [ 9]\n",
            " [ 6]\n",
            " [ 8]\n",
            " [21]\n",
            " [23]\n",
            " [13]\n",
            " [ 3]\n",
            " [ 1]\n",
            " [12]\n",
            " [ 8]\n",
            " [ 4]\n",
            " [ 6]\n",
            " [17]\n",
            " [12]\n",
            " [11]\n",
            " [ 2]\n",
            " [ 4]\n",
            " [24]\n",
            " [ 1]\n",
            " [ 6]\n",
            " [11]\n",
            " [21]\n",
            " [ 3]\n",
            " [24]\n",
            " [ 3]\n",
            " [ 3]\n",
            " [15]\n",
            " [10]\n",
            " [ 9]\n",
            " [23]\n",
            " [ 2]\n",
            " [11]\n",
            " [23]\n",
            " [11]\n",
            " [20]\n",
            " [ 1]\n",
            " [ 8]\n",
            " [ 1]\n",
            " [ 5]\n",
            " [25]\n",
            " [13]\n",
            " [21]\n",
            " [17]\n",
            " [ 7]\n",
            " [ 9]\n",
            " [ 4]\n",
            " [ 4]\n",
            " [ 1]\n",
            " [ 2]\n",
            " [22]\n",
            " [17]\n",
            " [10]\n",
            " [ 2]\n",
            " [21]\n",
            " [ 2]\n",
            " [ 1]\n",
            " [10]\n",
            " [16]\n",
            " [ 5]\n",
            " [16]\n",
            " [ 1]\n",
            " [17]\n",
            " [ 7]\n",
            " [ 4]\n",
            " [14]\n",
            " [ 5]\n",
            " [20]\n",
            " [ 3]\n",
            " [15]\n",
            " [ 2]\n",
            " [ 7]\n",
            " [ 6]\n",
            " [ 2]\n",
            " [10]\n",
            " [ 8]]\n"
          ]
        }
      ]
    },
    {
      "cell_type": "code",
      "metadata": {
        "colab": {
          "base_uri": "https://localhost:8080/"
        },
        "id": "1eTM8L71zVnU",
        "outputId": "6d9eedc2-5680-4154-d105-83f297263cbd"
      },
      "source": [
        "print(type(y_train_label_seq[0]))"
      ],
      "execution_count": 23,
      "outputs": [
        {
          "output_type": "stream",
          "name": "stdout",
          "text": [
            "<class 'numpy.ndarray'>\n"
          ]
        }
      ]
    },
    {
      "cell_type": "code",
      "metadata": {
        "colab": {
          "base_uri": "https://localhost:8080/"
        },
        "id": "6IH-c1HhsKNG",
        "outputId": "7f19d57c-e743-4359-c2e7-d82033ee4d62"
      },
      "source": [
        "print(len(word_index))"
      ],
      "execution_count": 24,
      "outputs": [
        {
          "output_type": "stream",
          "name": "stdout",
          "text": [
            "7514\n"
          ]
        }
      ]
    },
    {
      "cell_type": "code",
      "metadata": {
        "execution": {
          "iopub.status.busy": "2021-10-05T13:20:03.274391Z",
          "iopub.execute_input": "2021-10-05T13:20:03.274736Z",
          "iopub.status.idle": "2021-10-05T13:22:21.957489Z",
          "shell.execute_reply.started": "2021-10-05T13:20:03.274707Z",
          "shell.execute_reply": "2021-10-05T13:22:21.956432Z"
        },
        "trusted": true,
        "colab": {
          "base_uri": "https://localhost:8080/"
        },
        "id": "YXZx3aIopgLo",
        "outputId": "9acf7512-195f-43d5-9db2-44be13ecd90d"
      },
      "source": [
        "model = tf.keras.Sequential([\n",
        "    tf.keras.layers.Embedding(vocab_size, embedding_dim, input_length=max_length),\n",
        "    tf.keras.layers.Bidirectional(tf.keras.layers.LSTM(32)),\n",
        "    tf.keras.layers.Dense(256, activation='tanh'),\n",
        "    tf.keras.layers.Dense(26, activation='softmax')\n",
        "])\n",
        "model.compile(loss='sparse_categorical_crossentropy',optimizer='adam',metrics=['accuracy'])\n",
        "model.summary()\n",
        "history = model.fit(X_train_padded, y_train_label_seq, epochs=15, validation_data=(X_test_padded, y_test_label_seq), verbose=2)"
      ],
      "execution_count": 25,
      "outputs": [
        {
          "output_type": "stream",
          "name": "stdout",
          "text": [
            "Model: \"sequential\"\n",
            "_________________________________________________________________\n",
            " Layer (type)                Output Shape              Param #   \n",
            "=================================================================\n",
            " embedding (Embedding)       (None, 1024, 32)          960000    \n",
            "                                                                 \n",
            " bidirectional (Bidirectiona  (None, 64)               16640     \n",
            " l)                                                              \n",
            "                                                                 \n",
            " dense (Dense)               (None, 256)               16640     \n",
            "                                                                 \n",
            " dense_1 (Dense)             (None, 26)                6682      \n",
            "                                                                 \n",
            "=================================================================\n",
            "Total params: 999,962\n",
            "Trainable params: 999,962\n",
            "Non-trainable params: 0\n",
            "_________________________________________________________________\n",
            "Epoch 1/15\n",
            "25/25 - 26s - loss: 3.2214 - accuracy: 0.0819 - val_loss: 3.1700 - val_accuracy: 0.0725 - 26s/epoch - 1s/step\n",
            "Epoch 2/15\n",
            "25/25 - 20s - loss: 2.9979 - accuracy: 0.0988 - val_loss: 2.7977 - val_accuracy: 0.1347 - 20s/epoch - 819ms/step\n",
            "Epoch 3/15\n",
            "25/25 - 20s - loss: 2.5616 - accuracy: 0.2588 - val_loss: 2.5533 - val_accuracy: 0.2124 - 20s/epoch - 819ms/step\n",
            "Epoch 4/15\n",
            "25/25 - 21s - loss: 2.1282 - accuracy: 0.3186 - val_loss: 2.1219 - val_accuracy: 0.2591 - 21s/epoch - 822ms/step\n",
            "Epoch 5/15\n",
            "25/25 - 21s - loss: 1.6883 - accuracy: 0.4382 - val_loss: 1.6587 - val_accuracy: 0.6166 - 21s/epoch - 831ms/step\n",
            "Epoch 6/15\n",
            "25/25 - 21s - loss: 1.3929 - accuracy: 0.5852 - val_loss: 1.3952 - val_accuracy: 0.6736 - 21s/epoch - 835ms/step\n",
            "Epoch 7/15\n",
            "25/25 - 21s - loss: 1.1570 - accuracy: 0.6541 - val_loss: 1.1452 - val_accuracy: 0.7617 - 21s/epoch - 844ms/step\n",
            "Epoch 8/15\n",
            "25/25 - 22s - loss: 0.9466 - accuracy: 0.7555 - val_loss: 1.0163 - val_accuracy: 0.6995 - 22s/epoch - 860ms/step\n",
            "Epoch 9/15\n",
            "25/25 - 22s - loss: 0.8994 - accuracy: 0.7659 - val_loss: 0.8772 - val_accuracy: 0.8238 - 22s/epoch - 869ms/step\n",
            "Epoch 10/15\n",
            "25/25 - 21s - loss: 0.6871 - accuracy: 0.8466 - val_loss: 0.7141 - val_accuracy: 0.8653 - 21s/epoch - 836ms/step\n",
            "Epoch 11/15\n",
            "25/25 - 21s - loss: 0.4979 - accuracy: 0.9415 - val_loss: 0.5874 - val_accuracy: 0.8860 - 21s/epoch - 832ms/step\n",
            "Epoch 12/15\n",
            "25/25 - 21s - loss: 0.3910 - accuracy: 0.9584 - val_loss: 0.4988 - val_accuracy: 0.9275 - 21s/epoch - 837ms/step\n",
            "Epoch 13/15\n",
            "25/25 - 21s - loss: 0.2985 - accuracy: 0.9688 - val_loss: 0.4260 - val_accuracy: 0.9326 - 21s/epoch - 835ms/step\n",
            "Epoch 14/15\n",
            "25/25 - 21s - loss: 0.2184 - accuracy: 0.9857 - val_loss: 0.3442 - val_accuracy: 0.9845 - 21s/epoch - 824ms/step\n",
            "Epoch 15/15\n",
            "25/25 - 21s - loss: 0.1619 - accuracy: 0.9961 - val_loss: 0.3021 - val_accuracy: 0.9845 - 21s/epoch - 824ms/step\n"
          ]
        }
      ]
    },
    {
      "cell_type": "code",
      "metadata": {
        "execution": {
          "iopub.status.busy": "2021-10-05T13:05:16.856443Z",
          "iopub.execute_input": "2021-10-05T13:05:16.856894Z",
          "iopub.status.idle": "2021-10-05T13:05:17.178816Z",
          "shell.execute_reply.started": "2021-10-05T13:05:16.856863Z",
          "shell.execute_reply": "2021-10-05T13:05:17.177791Z"
        },
        "trusted": true,
        "colab": {
          "base_uri": "https://localhost:8080/",
          "height": 541
        },
        "id": "wPSX29BipgLo",
        "outputId": "f9323487-9baa-4914-c26c-877419f0b2af"
      },
      "source": [
        "plot_history(history, 'accuracy')\n",
        "plot_history(history, 'loss')"
      ],
      "execution_count": 26,
      "outputs": [
        {
          "output_type": "display_data",
          "data": {
            "image/png": "[encoded data removed]",
            "text/plain": [
              "<Figure size 432x288 with 1 Axes>"
            ]
          },
          "metadata": {
            "needs_background": "light"
          }
        },
        {
          "output_type": "display_data",
          "data": {
            "image/png": "[encoded data removed]",
            "text/plain": [
              "<Figure size 432x288 with 1 Axes>"
            ]
          },
          "metadata": {
            "needs_background": "light"
          }
        }
      ]
    },
    {
      "cell_type": "code",
      "metadata": {
        "execution": {
          "iopub.status.busy": "2021-10-05T13:05:17.179905Z",
          "iopub.execute_input": "2021-10-05T13:05:17.180189Z",
          "iopub.status.idle": "2021-10-05T13:05:18.162080Z",
          "shell.execute_reply.started": "2021-10-05T13:05:17.180160Z",
          "shell.execute_reply": "2021-10-05T13:05:18.161107Z"
        },
        "trusted": true,
        "colab": {
          "base_uri": "https://localhost:8080/"
        },
        "id": "kyJrUPJfpgLo",
        "outputId": "f182a0c9-72b9-46f9-f74a-3acdb55c8c58"
      },
      "source": [
        "labels_pred = np.argmax(model.predict(X_test_padded),axis = -1) \n",
        "print(labels_pred[0:24])\n",
        "print(y_test_label_seq[0:24].reshape( 1, -1))"
      ],
      "execution_count": 27,
      "outputs": [
        {
          "output_type": "stream",
          "name": "stdout",
          "text": [
            "[10 13 11  2  1 23 13 16  8  6 21  1  9 14 20 18 25 12 20  6 10  1  4 25]\n",
            "[[10 13 11  2  1 23 13 16  8  6  3  1  9 14 20 18 25 12 20 25 10  1  4 25]]\n"
          ]
        }
      ]
    },
    {
      "cell_type": "code",
      "metadata": {
        "execution": {
          "iopub.status.busy": "2021-10-05T13:05:18.163341Z",
          "iopub.execute_input": "2021-10-05T13:05:18.163646Z",
          "iopub.status.idle": "2021-10-05T13:05:18.171787Z",
          "shell.execute_reply.started": "2021-10-05T13:05:18.163617Z",
          "shell.execute_reply": "2021-10-05T13:05:18.170986Z"
        },
        "trusted": true,
        "colab": {
          "base_uri": "https://localhost:8080/"
        },
        "id": "oJ3uACp6pgLp",
        "outputId": "aed52fe1-5cc8-4cb4-ecbc-00e4c552ad2b"
      },
      "source": [
        "from sklearn.metrics import accuracy_score\n",
        "print(\"Accuracy Score\")\n",
        "print(accuracy_score(labels_pred,y_test_label_seq))"
      ],
      "execution_count": 28,
      "outputs": [
        {
          "output_type": "stream",
          "name": "stdout",
          "text": [
            "Accuracy Score\n",
            "0.9844559585492227\n"
          ]
        }
      ]
    }
  ]
}