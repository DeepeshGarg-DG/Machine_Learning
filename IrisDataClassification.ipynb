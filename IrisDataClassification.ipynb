{
  "nbformat": 4,
  "nbformat_minor": 0,
  "metadata": {
    "colab": {
      "name": "IrisDataClassification.ipynb",
      "provenance": [],
      "collapsed_sections": []
    },
    "kernelspec": {
      "name": "python3",
      "display_name": "Python 3"
    },
    "language_info": {
      "name": "python"
    }
  },
  "cells": [
    {
      "cell_type": "code",
      "metadata": {
        "id": "zc4aJjMRD9dX"
      },
      "source": [
        "import pandas as pd\n",
        "import numpy as np\n",
        "from sklearn.svm import SVC\n",
        "from sklearn.model_selection import train_test_split\n",
        "from sklearn.neighbors import KNeighborsClassifier"
      ],
      "execution_count": 1,
      "outputs": []
    },
    {
      "cell_type": "code",
      "metadata": {
        "id": "Yu8R6gNMnXk-"
      },
      "source": [
        "from sklearn.datasets import load_iris\n",
        "iris_data = load_iris()"
      ],
      "execution_count": 2,
      "outputs": []
    },
    {
      "cell_type": "code",
      "metadata": {
        "colab": {
          "base_uri": "https://localhost:8080/",
          "height": 204
        },
        "id": "PpDxyZ2LoUyl",
        "outputId": "33bda348-b784-4e9b-df7d-d2a5ffb191b5"
      },
      "source": [
        "iris_dataset = pd.DataFrame(data= np.c_[iris_data['data'], iris_data['target']],\n",
        "                      columns= iris_data['feature_names'] + ['target'])\n",
        "iris_dataset.head()"
      ],
      "execution_count": 3,
      "outputs": [
        {
          "output_type": "execute_result",
          "data": {
            "text/html": [
              "<div>\n",
              "<style scoped>\n",
              "    .dataframe tbody tr th:only-of-type {\n",
              "        vertical-align: middle;\n",
              "    }\n",
              "\n",
              "    .dataframe tbody tr th {\n",
              "        vertical-align: top;\n",
              "    }\n",
              "\n",
              "    .dataframe thead th {\n",
              "        text-align: right;\n",
              "    }\n",
              "</style>\n",
              "<table border=\"1\" class=\"dataframe\">\n",
              "  <thead>\n",
              "    <tr style=\"text-align: right;\">\n",
              "      <th></th>\n",
              "      <th>sepal length (cm)</th>\n",
              "      <th>sepal width (cm)</th>\n",
              "      <th>petal length (cm)</th>\n",
              "      <th>petal width (cm)</th>\n",
              "      <th>target</th>\n",
              "    </tr>\n",
              "  </thead>\n",
              "  <tbody>\n",
              "    <tr>\n",
              "      <th>0</th>\n",
              "      <td>5.1</td>\n",
              "      <td>3.5</td>\n",
              "      <td>1.4</td>\n",
              "      <td>0.2</td>\n",
              "      <td>0.0</td>\n",
              "    </tr>\n",
              "    <tr>\n",
              "      <th>1</th>\n",
              "      <td>4.9</td>\n",
              "      <td>3.0</td>\n",
              "      <td>1.4</td>\n",
              "      <td>0.2</td>\n",
              "      <td>0.0</td>\n",
              "    </tr>\n",
              "    <tr>\n",
              "      <th>2</th>\n",
              "      <td>4.7</td>\n",
              "      <td>3.2</td>\n",
              "      <td>1.3</td>\n",
              "      <td>0.2</td>\n",
              "      <td>0.0</td>\n",
              "    </tr>\n",
              "    <tr>\n",
              "      <th>3</th>\n",
              "      <td>4.6</td>\n",
              "      <td>3.1</td>\n",
              "      <td>1.5</td>\n",
              "      <td>0.2</td>\n",
              "      <td>0.0</td>\n",
              "    </tr>\n",
              "    <tr>\n",
              "      <th>4</th>\n",
              "      <td>5.0</td>\n",
              "      <td>3.6</td>\n",
              "      <td>1.4</td>\n",
              "      <td>0.2</td>\n",
              "      <td>0.0</td>\n",
              "    </tr>\n",
              "  </tbody>\n",
              "</table>\n",
              "</div>"
            ],
            "text/plain": [
              "   sepal length (cm)  sepal width (cm)  ...  petal width (cm)  target\n",
              "0                5.1               3.5  ...               0.2     0.0\n",
              "1                4.9               3.0  ...               0.2     0.0\n",
              "2                4.7               3.2  ...               0.2     0.0\n",
              "3                4.6               3.1  ...               0.2     0.0\n",
              "4                5.0               3.6  ...               0.2     0.0\n",
              "\n",
              "[5 rows x 5 columns]"
            ]
          },
          "metadata": {},
          "execution_count": 3
        }
      ]
    },
    {
      "cell_type": "code",
      "metadata": {
        "colab": {
          "base_uri": "https://localhost:8080/"
        },
        "id": "onmHFHwwjC0_",
        "outputId": "c9145d4b-4f14-4eb9-80a5-d5dcd3276784"
      },
      "source": [
        "print(\"Target names: \\n 0.0: 'Setosa', 1.0: 'Versicolor', 2.0:'Virginica' \\n\",iris_dataset['target'].unique())\n",
        "print(\"Shape of data: \",format(iris_dataset.shape))"
      ],
      "execution_count": 4,
      "outputs": [
        {
          "output_type": "stream",
          "name": "stdout",
          "text": [
            "Target names: \n",
            " 0.0: 'Setosa', 1.0: 'Versicolor', 2.0:'Virginica' \n",
            " [0. 1. 2.]\n",
            "Shape of data:  (150, 5)\n"
          ]
        }
      ]
    },
    {
      "cell_type": "code",
      "metadata": {
        "id": "0Jmmw0EPFAj7"
      },
      "source": [
        "X = iris_dataset.iloc[:,[0,1,2,3]]\n",
        "y = iris_dataset.iloc[:,[4]]\n",
        "X_train, X_test, y_train, y_test = train_test_split(X, y, test_size = 0.20)"
      ],
      "execution_count": 5,
      "outputs": []
    },
    {
      "cell_type": "code",
      "metadata": {
        "colab": {
          "base_uri": "https://localhost:8080/"
        },
        "id": "pOV6_04AJQwN",
        "outputId": "8bfb0519-e8b0-402d-daf0-c6efd5cb5e08"
      },
      "source": [
        "print(X_train.shape)\n",
        "print(X_test.shape)"
      ],
      "execution_count": 6,
      "outputs": [
        {
          "output_type": "stream",
          "name": "stdout",
          "text": [
            "(120, 4)\n",
            "(30, 4)\n"
          ]
        }
      ]
    },
    {
      "cell_type": "code",
      "metadata": {
        "colab": {
          "base_uri": "https://localhost:8080/"
        },
        "id": "I25PqcQXJdpv",
        "outputId": "c2167656-c8d8-4f46-da30-28494b963207"
      },
      "source": [
        "print(y_train.shape)\n",
        "print(y_test.shape)"
      ],
      "execution_count": 7,
      "outputs": [
        {
          "output_type": "stream",
          "name": "stdout",
          "text": [
            "(120, 1)\n",
            "(30, 1)\n"
          ]
        }
      ]
    },
    {
      "cell_type": "code",
      "metadata": {
        "colab": {
          "base_uri": "https://localhost:8080/"
        },
        "id": "N8yUltyxKb2w",
        "outputId": "36a14153-2f32-4a0c-8de1-f3a12cafbdfc"
      },
      "source": [
        "print(X_train)\n",
        "print(y_train)\n",
        "y_train.values.ravel()"
      ],
      "execution_count": 8,
      "outputs": [
        {
          "output_type": "stream",
          "name": "stdout",
          "text": [
            "     sepal length (cm)  sepal width (cm)  petal length (cm)  petal width (cm)\n",
            "20                 5.4               3.4                1.7               0.2\n",
            "63                 6.1               2.9                4.7               1.4\n",
            "71                 6.1               2.8                4.0               1.3\n",
            "49                 5.0               3.3                1.4               0.2\n",
            "38                 4.4               3.0                1.3               0.2\n",
            "..                 ...               ...                ...               ...\n",
            "146                6.3               2.5                5.0               1.9\n",
            "22                 4.6               3.6                1.0               0.2\n",
            "137                6.4               3.1                5.5               1.8\n",
            "42                 4.4               3.2                1.3               0.2\n",
            "90                 5.5               2.6                4.4               1.2\n",
            "\n",
            "[120 rows x 4 columns]\n",
            "     target\n",
            "20      0.0\n",
            "63      1.0\n",
            "71      1.0\n",
            "49      0.0\n",
            "38      0.0\n",
            "..      ...\n",
            "146     2.0\n",
            "22      0.0\n",
            "137     2.0\n",
            "42      0.0\n",
            "90      1.0\n",
            "\n",
            "[120 rows x 1 columns]\n"
          ]
        },
        {
          "output_type": "execute_result",
          "data": {
            "text/plain": [
              "array([0., 1., 1., 0., 0., 1., 2., 2., 1., 1., 1., 0., 0., 2., 2., 0., 1.,\n",
              "       2., 1., 0., 2., 1., 0., 1., 2., 2., 2., 1., 1., 0., 2., 0., 2., 1.,\n",
              "       2., 0., 2., 0., 2., 2., 1., 0., 2., 1., 1., 2., 1., 0., 2., 0., 0.,\n",
              "       0., 0., 2., 2., 2., 1., 1., 0., 1., 1., 1., 2., 1., 0., 0., 0., 1.,\n",
              "       1., 0., 2., 0., 0., 2., 0., 0., 0., 2., 0., 0., 2., 1., 0., 1., 2.,\n",
              "       2., 0., 1., 1., 2., 0., 0., 0., 0., 1., 0., 2., 1., 2., 1., 1., 2.,\n",
              "       1., 2., 0., 0., 1., 0., 1., 0., 2., 1., 2., 1., 0., 2., 0., 2., 0.,\n",
              "       1.])"
            ]
          },
          "metadata": {},
          "execution_count": 8
        }
      ]
    },
    {
      "cell_type": "code",
      "metadata": {
        "id": "iB19R-gkJ0jw"
      },
      "source": [
        "knn = KNeighborsClassifier(n_neighbors=1) # k neighbours classifier "
      ],
      "execution_count": 9,
      "outputs": []
    },
    {
      "cell_type": "code",
      "metadata": {
        "colab": {
          "base_uri": "https://localhost:8080/"
        },
        "id": "ydfDfr4SKX_K",
        "outputId": "9e911ed4-7260-4c29-a3fd-41cd8627d514"
      },
      "source": [
        "knn.fit(X_train, y_train)"
      ],
      "execution_count": 10,
      "outputs": [
        {
          "output_type": "stream",
          "name": "stderr",
          "text": [
            "/usr/local/lib/python3.7/dist-packages/sklearn/neighbors/_classification.py:198: DataConversionWarning: A column-vector y was passed when a 1d array was expected. Please change the shape of y to (n_samples,), for example using ravel().\n",
            "  return self._fit(X, y)\n"
          ]
        },
        {
          "output_type": "execute_result",
          "data": {
            "text/plain": [
              "KNeighborsClassifier(n_neighbors=1)"
            ]
          },
          "metadata": {},
          "execution_count": 10
        }
      ]
    },
    {
      "cell_type": "code",
      "metadata": {
        "colab": {
          "base_uri": "https://localhost:8080/"
        },
        "id": "iQluVKeOMS_L",
        "outputId": "0075b0e0-7ec6-4586-f8f0-070f4b66c9da"
      },
      "source": [
        "y_pred = knn.predict(X_test)\n",
        "print(\"Test set predictions:\\n {}\".format(y_pred))"
      ],
      "execution_count": 11,
      "outputs": [
        {
          "output_type": "stream",
          "name": "stdout",
          "text": [
            "Test set predictions:\n",
            " [1. 1. 2. 1. 1. 2. 1. 1. 1. 2. 0. 2. 1. 2. 0. 1. 2. 2. 0. 0. 1. 2. 2. 2.\n",
            " 2. 2. 0. 1. 1. 0.]\n"
          ]
        }
      ]
    },
    {
      "cell_type": "code",
      "metadata": {
        "colab": {
          "base_uri": "https://localhost:8080/"
        },
        "id": "jFzZ2k7pMZrZ",
        "outputId": "f1372086-8e6d-4a12-bf0c-c9a4543ea195"
      },
      "source": [
        "print(\"Test set score (knn.score): {:.2f}\".format(knn.score(X_test, y_test)))"
      ],
      "execution_count": 12,
      "outputs": [
        {
          "output_type": "stream",
          "name": "stdout",
          "text": [
            "Test set score (knn.score): 0.90\n"
          ]
        }
      ]
    },
    {
      "cell_type": "code",
      "metadata": {
        "colab": {
          "base_uri": "https://localhost:8080/"
        },
        "id": "YZlbf526i4Dx",
        "outputId": "54ca93dd-955b-42e7-e8bc-7d1d538a3718"
      },
      "source": [
        "svm = SVC(kernel = 'linear', random_state = 0) # support vector machines classifier \n",
        "svm.fit(X_train, y_train)\n",
        "\n",
        "y_pred2 = svm.predict(X_test)"
      ],
      "execution_count": 13,
      "outputs": [
        {
          "output_type": "stream",
          "name": "stderr",
          "text": [
            "/usr/local/lib/python3.7/dist-packages/sklearn/utils/validation.py:985: DataConversionWarning: A column-vector y was passed when a 1d array was expected. Please change the shape of y to (n_samples, ), for example using ravel().\n",
            "  y = column_or_1d(y, warn=True)\n"
          ]
        }
      ]
    },
    {
      "cell_type": "code",
      "metadata": {
        "colab": {
          "base_uri": "https://localhost:8080/"
        },
        "id": "Qb1lBCTsjlw_",
        "outputId": "75c007ff-79ad-4228-e8b7-e5c5dfd17a85"
      },
      "source": [
        "print(\"Test set score (svm.score): {:.2f}\".format(svm.score(X_test, y_test)))"
      ],
      "execution_count": 14,
      "outputs": [
        {
          "output_type": "stream",
          "name": "stdout",
          "text": [
            "Test set score (svm.score): 0.97\n"
          ]
        }
      ]
    },
    {
      "cell_type": "code",
      "metadata": {
        "colab": {
          "base_uri": "https://localhost:8080/"
        },
        "id": "dD-wzClljujV",
        "outputId": "998800cf-609a-445d-ff8d-a2574e337ea0"
      },
      "source": [
        "from sklearn.ensemble import RandomForestClassifier\n",
        "RF = RandomForestClassifier(n_estimators = 100)  # Random forest classifier\n",
        "RF.fit(X_train, y_train)\n",
        "y_pred3 = RF.predict(X_test)\n",
        "print(\"Test set score (RF.score): {:.2f}\".format(RF.score(X_test, y_test)))"
      ],
      "execution_count": 15,
      "outputs": [
        {
          "output_type": "stream",
          "name": "stderr",
          "text": [
            "/usr/local/lib/python3.7/dist-packages/ipykernel_launcher.py:3: DataConversionWarning: A column-vector y was passed when a 1d array was expected. Please change the shape of y to (n_samples,), for example using ravel().\n",
            "  This is separate from the ipykernel package so we can avoid doing imports until\n"
          ]
        },
        {
          "output_type": "stream",
          "name": "stdout",
          "text": [
            "Test set score (RF.score): 0.93\n"
          ]
        }
      ]
    },
    {
      "cell_type": "code",
      "metadata": {
        "id": "r2DZW-a3kixD"
      },
      "source": [
        ""
      ],
      "execution_count": 15,
      "outputs": []
    }
  ]
}